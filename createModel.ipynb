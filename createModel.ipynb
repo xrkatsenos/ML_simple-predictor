{
 "cells": [
  {
   "cell_type": "code",
   "execution_count": 2,
   "metadata": {},
   "outputs": [
    {
     "data": {
      "text/plain": [
       "['emoji_predictor.joblib']"
      ]
     },
     "execution_count": 2,
     "metadata": {},
     "output_type": "execute_result"
    }
   ],
   "source": [
    "import pandas as pd\n",
    "from sklearn.tree import DecisionTreeClassifier\n",
    "from sklearn.model_selection import train_test_split\n",
    "from sklearn.metrics import accuracy_score\n",
    "import joblib\n",
    "from sklearn import tree\n",
    "\n",
    "emoji_data = pd.read_csv(\"emojiData.csv\")\n",
    "\n",
    "X = emoji_data.drop(columns=\"emoji\")\n",
    "y = emoji_data[\"emoji\"]\n",
    "\n",
    "X_train, X_test, y_train, y_test = train_test_split(X,y,test_size=0.2)\n",
    "\n",
    "model = DecisionTreeClassifier()\n",
    "model.fit(X_train, y_train)\n",
    "\n",
    "#prediction = model.predict([[24,0]])\n",
    "#prediction =model.predict(X_test)\n",
    "\n",
    "#score = accuracy_score(y_test, prediction)\n",
    "\n",
    "dotData = tree.export_graphviz(model, out_file=\"emoji_results.dot\",\n",
    "                               feature_names=[\"age\",\"gender\"],\n",
    "                               class_names=model.classes_,\n",
    "                               label=\"all\",\n",
    "                               rounded=True,\n",
    "                               filled=True)\n",
    "\n",
    "\n",
    "joblib.dump(model,\"emoji_predictor.joblib\")"
   ]
  }
 ],
 "metadata": {
  "kernelspec": {
   "display_name": "env",
   "language": "python",
   "name": "python3"
  },
  "language_info": {
   "codemirror_mode": {
    "name": "ipython",
    "version": 3
   },
   "file_extension": ".py",
   "mimetype": "text/x-python",
   "name": "python",
   "nbconvert_exporter": "python",
   "pygments_lexer": "ipython3",
   "version": "3.11.4"
  }
 },
 "nbformat": 4,
 "nbformat_minor": 2
}
